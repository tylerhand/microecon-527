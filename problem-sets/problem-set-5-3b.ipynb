{
 "cells": [
  {
   "cell_type": "markdown",
   "source": [
    "# Problem Set 4 - 3(b)"
   ],
   "metadata": {
    "collapsed": false,
    "pycharm": {
     "name": "#%% md\n"
    }
   }
  },
  {
   "cell_type": "code",
   "execution_count": 3,
   "outputs": [
    {
     "name": "stdout",
     "output_type": "stream",
     "text": [
      "Collecting sympy\n",
      "  Downloading sympy-1.11.1-py3-none-any.whl (6.5 MB)\n",
      "     ---------------------------------------- 6.5/6.5 MB 13.8 MB/s eta 0:00:00\n",
      "Collecting mpmath>=0.19\n",
      "  Downloading mpmath-1.2.1-py3-none-any.whl (532 kB)\n",
      "     ------------------------------------- 532.6/532.6 kB 11.1 MB/s eta 0:00:00\n",
      "Installing collected packages: mpmath, sympy\n",
      "Successfully installed mpmath-1.2.1 sympy-1.11.1\n",
      "Note: you may need to restart the kernel to use updated packages.\n"
     ]
    }
   ],
   "source": [
    "# Run if you get a \"module not found\" error on the Jupyter server\n",
    "# Note: You can access the web interface at localhost:8888\n",
    "\n",
    "%pip install sympy\n",
    "\n",
    "# you can also use %conda to use anaconda"
   ],
   "metadata": {
    "collapsed": false,
    "pycharm": {
     "name": "#%%\n"
    }
   }
  },
  {
   "cell_type": "code",
   "execution_count": null,
   "outputs": [],
   "source": [
    "### Set up functions and variables"
   ],
   "metadata": {
    "collapsed": false,
    "pycharm": {
     "name": "#%%\n"
    }
   }
  },
  {
   "cell_type": "code",
   "execution_count": 9,
   "outputs": [],
   "source": [
    "from sympy import *\n",
    "\n",
    "w = 1\n",
    "I = 10\n",
    "n = 50 #number of firms\n",
    "y, p = symbols('y p')\n",
    "\n",
    "# Cost Function\n",
    "C_y = 0.5*w*y**2\n",
    "\n",
    "# Demand Function\n",
    "D_p = 1000 - 50*p + 50*I\n",
    "\n",
    "# Supply Function\n",
    "D_s = y * n"
   ],
   "metadata": {
    "collapsed": false,
    "pycharm": {
     "name": "#%%\n"
    }
   }
  },
  {
   "cell_type": "code",
   "execution_count": 32,
   "outputs": [
    {
     "name": "stdout",
     "output_type": "stream",
     "text": [
      "MC = AC = p = 1.0*y \n",
      "\n",
      "Now, we can plug in y for p in our demand function and solve for equilibrium price/quantity where p=y and Q_d = Q_s\n",
      "\n",
      "Here, optimal y = p = 15 and market supply is $15 x 50 firms = 750\n"
     ]
    }
   ],
   "source": [
    "# Here, MC = AC = p, so...\n",
    "\n",
    "MC = diff(C_y,y)\n",
    "p = y\n",
    "\n",
    "print('MC = AC = p = %s \\n\\nNow, we can plug in y for p in our demand function and solve for equilibrium price/quantity where p=y and Q_d = Q_s\\n' %MC)\n",
    "\n",
    "#Therefore, we can plug y in for P in our demand...\n",
    "D_p = 1000 - 50*y + 50*I\n",
    "\n",
    "# Set Demand = Supply\n",
    "optimal_market = Eq(D_p,D_s)\n",
    "\n",
    "opt_y = solve(optimal_market,y)\n",
    "\n",
    "print(f'Here, optimal y = p = {opt_y[0]} and market supply is ${opt_y[0]} x {n} firms = {opt_y[0]*n}')"
   ],
   "metadata": {
    "collapsed": false,
    "pycharm": {
     "name": "#%%\n"
    }
   }
  }
 ],
 "metadata": {
  "kernelspec": {
   "display_name": "Python 3",
   "language": "python",
   "name": "python3"
  },
  "language_info": {
   "codemirror_mode": {
    "name": "ipython",
    "version": 2
   },
   "file_extension": ".py",
   "mimetype": "text/x-python",
   "name": "python",
   "nbconvert_exporter": "python",
   "pygments_lexer": "ipython2",
   "version": "2.7.6"
  }
 },
 "nbformat": 4,
 "nbformat_minor": 0
}