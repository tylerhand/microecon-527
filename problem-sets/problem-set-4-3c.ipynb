{
 "cells": [
  {
   "cell_type": "markdown",
   "source": [
    "# Problem Set 4 - 3(c)"
   ],
   "metadata": {
    "collapsed": false,
    "pycharm": {
     "name": "#%% md\n"
    }
   }
  },
  {
   "cell_type": "markdown",
   "source": [
    "### Set Variables"
   ],
   "metadata": {
    "collapsed": false,
    "pycharm": {
     "name": "#%% md\n"
    }
   }
  },
  {
   "cell_type": "code",
   "execution_count": 50,
   "outputs": [],
   "source": [
    "t = 0.1\n",
    "w=100\n",
    "L=40\n",
    "A=10\n",
    "Pr=2\n",
    "Pc=3"
   ],
   "metadata": {
    "collapsed": false,
    "pycharm": {
     "name": "#%%\n"
    }
   }
  },
  {
   "cell_type": "markdown",
   "source": [
    "### Solve for Optimal Demand (Marshallian)"
   ],
   "metadata": {
    "collapsed": false,
    "pycharm": {
     "name": "#%% md\n"
    }
   }
  },
  {
   "cell_type": "code",
   "execution_count": 51,
   "outputs": [
    {
     "name": "stdout",
     "output_type": "stream",
     "text": [
      "\n",
      "Results:\n",
      "----------------------------------------------------------------------------------\n",
      "Marshallian Demand for Rice = 1547.1429\n",
      "Marshallian Demand for Chicken = 171.9048\n",
      "Highest Possible Utility Level: 91.7787\n",
      "Expenditure Level: 3610.0\n",
      "----------------------------------------------------------------------------------\n",
      "\n"
     ]
    }
   ],
   "source": [
    "Rm = (L*w*(1-t)+A)/(Pr+(Pr**2/(4*Pc)))\n",
    "\n",
    "Cm = (L*w*(1-t) + A)/(((4*Pc**2)/Pr) + Pc)\n",
    "\n",
    "u_bar = 2*Rm**0.5 + Cm**0.5\n",
    "\n",
    "min_e = Pr*Rm + Pc*Cm\n",
    "\n",
    "result = '''\n",
    "Results:\n",
    "----------------------------------------------------------------------------------\n",
    "Marshallian Demand for Rice = {Rm}\n",
    "Marshallian Demand for Chicken = {Cm}\n",
    "Highest Possible Utility Level: {u_bar}\n",
    "Expenditure Level: {min_e}\n",
    "----------------------------------------------------------------------------------\n",
    "'''\n",
    "\n",
    "print(result.format(Rm=round(Rm,4),Cm=round(Cm,4),u_bar=round(u_bar,4),min_e=min_e))"
   ],
   "metadata": {
    "collapsed": false,
    "pycharm": {
     "name": "#%%\n"
    }
   }
  },
  {
   "cell_type": "code",
   "execution_count": 51,
   "outputs": [],
   "source": [],
   "metadata": {
    "collapsed": false,
    "pycharm": {
     "name": "#%%\n"
    }
   }
  }
 ],
 "metadata": {
  "kernelspec": {
   "display_name": "Python 3",
   "language": "python",
   "name": "python3"
  },
  "language_info": {
   "codemirror_mode": {
    "name": "ipython",
    "version": 2
   },
   "file_extension": ".py",
   "mimetype": "text/x-python",
   "name": "python",
   "nbconvert_exporter": "python",
   "pygments_lexer": "ipython2",
   "version": "2.7.6"
  }
 },
 "nbformat": 4,
 "nbformat_minor": 0
}