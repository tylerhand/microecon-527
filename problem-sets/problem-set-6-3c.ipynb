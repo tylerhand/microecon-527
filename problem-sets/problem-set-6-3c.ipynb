{
 "cells": [
  {
   "cell_type": "markdown",
   "source": [
    "# Problem Set 6 3(c)"
   ],
   "metadata": {
    "collapsed": false,
    "pycharm": {
     "name": "#%% md\n"
    }
   }
  },
  {
   "cell_type": "markdown",
   "source": [
    "### Set up Functions/Variables"
   ],
   "metadata": {
    "collapsed": false,
    "pycharm": {
     "name": "#%% md\n"
    }
   }
  },
  {
   "cell_type": "code",
   "execution_count": 172,
   "outputs": [],
   "source": [
    "from sympy import *\n",
    "\n",
    "mc = 30\n",
    "Q = symbols('Q')\n",
    "price = 90 - Q"
   ],
   "metadata": {
    "collapsed": false,
    "pycharm": {
     "name": "#%%\n"
    }
   }
  },
  {
   "cell_type": "markdown",
   "source": [
    "### Solve for Optimal Levels with Block Pricing"
   ],
   "metadata": {
    "collapsed": false,
    "pycharm": {
     "name": "#%% md\n"
    }
   }
  },
  {
   "cell_type": "code",
   "execution_count": 173,
   "outputs": [
    {
     "name": "stdout",
     "output_type": "stream",
     "text": [
      "Our profit function with block pricing is...\n",
      "\n",
      "Profit = q1*(90 - q1) - 30*q2 + (90 - q2)*(-q1 + q2)\n",
      "\n",
      "The derivitive of profit w.r.t. q1 : -2*q1 + q2\n",
      "The derivitive of profit w.r.t. q2 : q1 - 2*q2 + 60\n",
      "\n",
      "We can rewrite our FOCs to get get q1 = q2/2 and q2 = q1/2 + 30\n",
      "\n",
      "When we plug those back into our FOCs, we can solve for q1 and q2. We then plug q1 and q2 into 90 - Q to get p1 and p2...\n",
      "\n",
      "\n",
      "-----------------------------------------------------------------------\n",
      "Results:\n",
      "-----------------------------------------------------------------------\n",
      "Q1 = 20\n",
      "Q2 = 40\n",
      "P1 = 90 - Q = 70\n",
      "P2 = 90 - Q = 50\n",
      "-----------------------------------------------------------------------\n",
      "\n"
     ]
    }
   ],
   "source": [
    "# Sep up problem\n",
    "\n",
    "q1, q2 = symbols('q1 q2')\n",
    "\n",
    "profit = (90 - q1) * q1 + (90 -q2) * (q2-q1) - (mc * q2)\n",
    "\n",
    "print(f'Our profit function with block pricing is...\\n\\nProfit = {profit}\\n')\n",
    "\n",
    "f_q1 = diff(profit, q1)\n",
    "f_q2 = diff(profit,q2)\n",
    "\n",
    "print(f'The derivitive of profit w.r.t. q1 : {f_q1}\\nThe derivitive of profit w.r.t. q2 : {f_q2}\\n')\n",
    "\n",
    "q1_solve = solve(f_q1,q1)\n",
    "q2_solve = solve(f_q2,q2)\n",
    "new_dq1 = q1_solve[0]\n",
    "new_dq2 = q2_solve[0]\n",
    "\n",
    "print(f'We can rewrite our FOCs to get get q1 = {new_dq1} and q2 = {new_dq2}\\n\\nWhen we plug those back into our FOCs, we can solve for q1 and q2. We then plug q1 and q2 into {price} to get p1 and p2...\\n')\n",
    "\n",
    "optimal_q1 = solve(f_q1.subs(q2,new_dq2),q1)\n",
    "optimal_q2 = solve(f_q2.subs(q1,optimal_q1[0]),q2)\n",
    "optimal_p1 = price.subs(Q,optimal_q1[0])\n",
    "optimal_p2 = price.subs(Q,optimal_q2[0])\n",
    "\n",
    "print(f'''\n",
    "-----------------------------------------------------------------------\n",
    "Results:\n",
    "-----------------------------------------------------------------------\n",
    "Q1 = {optimal_q1[0]}\n",
    "Q2 = {optimal_q2[0]}\n",
    "P1 = {price} = {optimal_p1}\n",
    "P2 = {price} = {optimal_p2}\n",
    "-----------------------------------------------------------------------\n",
    "''')"
   ],
   "metadata": {
    "collapsed": false,
    "pycharm": {
     "name": "#%%\n"
    }
   }
  }
 ],
 "metadata": {
  "kernelspec": {
   "display_name": "Python 3",
   "language": "python",
   "name": "python3"
  },
  "language_info": {
   "codemirror_mode": {
    "name": "ipython",
    "version": 2
   },
   "file_extension": ".py",
   "mimetype": "text/x-python",
   "name": "python",
   "nbconvert_exporter": "python",
   "pygments_lexer": "ipython2",
   "version": "2.7.6"
  }
 },
 "nbformat": 4,
 "nbformat_minor": 0
}