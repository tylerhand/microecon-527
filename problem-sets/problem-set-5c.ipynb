{
 "cells": [
  {
   "cell_type": "markdown",
   "source": [
    "# Problem Set 5c"
   ],
   "metadata": {
    "collapsed": false,
    "pycharm": {
     "name": "#%% md\n"
    }
   }
  },
  {
   "cell_type": "markdown",
   "source": [
    "### Set Variables..."
   ],
   "metadata": {
    "collapsed": false,
    "pycharm": {
     "name": "#%% md\n"
    }
   }
  },
  {
   "cell_type": "code",
   "execution_count": 39,
   "outputs": [],
   "source": [
    "z=25\n",
    "y=400\n",
    "wz=5\n",
    "wx=1"
   ],
   "metadata": {
    "collapsed": false,
    "pycharm": {
     "name": "#%%\n"
    }
   }
  },
  {
   "cell_type": "markdown",
   "source": [
    "### Question 5(a)"
   ],
   "metadata": {
    "collapsed": false,
    "pycharm": {
     "name": "#%% md\n"
    }
   }
  },
  {
   "cell_type": "markdown",
   "source": [],
   "metadata": {
    "collapsed": false,
    "pycharm": {
     "name": "#%% md\n"
    }
   }
  },
  {
   "cell_type": "code",
   "execution_count": 40,
   "outputs": [
    {
     "name": "stdout",
     "output_type": "stream",
     "text": [
      "Short-run Total Cost (SRTC) = 230.0\n",
      "Short-run Average Cost (SRAC) = 0.575\n",
      "Short-run Variable Cost (SRAVC) = 0.5625\n",
      "Short-run Average Fixed Cost (SRACF) = 0.3125\n",
      "Short-run Marginal Cost (SRMC) = 0.75\n"
     ]
    }
   ],
   "source": [
    "TC = wx*((y**(0.5)-z**(0.5))**2.0)+wz\n",
    "\n",
    "print('Short-run Total Cost (SRTC) = {function}'.format(function=TC))\n",
    "\n",
    "AC = TC / y\n",
    "\n",
    "print('Short-run Average Cost (SRAC) = {function}'.format(function=AC))\n",
    "\n",
    "AVC = (wx * ((y**0.5-z**0.5)**2)) / y\n",
    "\n",
    "print('Short-run Variable Cost (SRAVC) = {function}'.format(function=AVC))\n",
    "\n",
    "AFC = (wz * z) / y\n",
    "\n",
    "print('Short-run Average Fixed Cost (SRACF) = {function}'.format(function=AFC))\n",
    "\n",
    "MC = wx*y**-0.5*(y**0.5-z**0.5)\n",
    "\n",
    "print('Short-run Marginal Cost (SRMC) = {function}'.format(function=MC))"
   ],
   "metadata": {
    "collapsed": false,
    "pycharm": {
     "name": "#%%\n"
    }
   }
  },
  {
   "cell_type": "markdown",
   "source": [
    "### Question 5(b)"
   ],
   "metadata": {
    "collapsed": false,
    "pycharm": {
     "name": "#%% md\n"
    }
   }
  },
  {
   "cell_type": "code",
   "execution_count": 41,
   "outputs": [
    {
     "name": "stdout",
     "output_type": "stream",
     "text": [
      "Long-run Total Cost (LRTC) = 333.3333333333333\n",
      "Long-run Average Cost (LRAC) = 0.8333333333333333\n",
      "Long-run Marginal Cost (LRMC) = 0.75\n"
     ]
    }
   ],
   "source": [
    "#Question 5(b)\n",
    "\n",
    "LTC = wx * (y/(1+(wx/wz))**2) + wz * ((wx/wz)**2) * (y/(1+wx/wz)**2)\n",
    "\n",
    "print('Long-run Total Cost (LRTC) = {function}'.format(function=LTC))\n",
    "\n",
    "LAC = LTC / y\n",
    "\n",
    "print('Long-run Average Cost (LRAC) = {function}'.format(function=LAC))\n",
    "\n",
    "LMC = wx/(1+(wx/wz)**2) + (wx**2/wz) * 1/((1+(wx/wz))**2)\n",
    "\n",
    "print('Long-run Marginal Cost (LRMC) = {function}'.format(function=MC))"
   ],
   "metadata": {
    "collapsed": false,
    "pycharm": {
     "name": "#%%\n"
    }
   }
  }
 ],
 "metadata": {
  "kernelspec": {
   "display_name": "Python 3",
   "language": "python",
   "name": "python3"
  },
  "language_info": {
   "codemirror_mode": {
    "name": "ipython",
    "version": 2
   },
   "file_extension": ".py",
   "mimetype": "text/x-python",
   "name": "python",
   "nbconvert_exporter": "python",
   "pygments_lexer": "ipython2",
   "version": "2.7.6"
  }
 },
 "nbformat": 4,
 "nbformat_minor": 0
}